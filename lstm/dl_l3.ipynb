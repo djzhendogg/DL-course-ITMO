{
  "nbformat": 4,
  "nbformat_minor": 0,
  "metadata": {
    "colab": {
      "provenance": []
    },
    "kernelspec": {
      "name": "python3",
      "display_name": "Python 3"
    },
    "language_info": {
      "name": "python"
    }
  },
  "cells": [
    {
      "cell_type": "code",
      "source": [
        "from tokenizers import Tokenizer, models, trainers, pre_tokenizers, processors\n",
        "from tokenizers.normalizers import Sequence as NormalizerSequence, Lowercase, NFD, StripAccents\n",
        "from tokenizers.pre_tokenizers import Whitespace\n",
        "from tokenizers.trainers import BpeTrainer\n",
        "from tokenizers.decoders import BPEDecoder\n",
        "\n",
        "import pandas as pd\n",
        "import numpy as np\n",
        "import matplotlib.pyplot as plt\n",
        "\n",
        "import torch\n",
        "import torch.nn.functional as F\n",
        "from torch.utils.data import TensorDataset, DataLoader, random_split\n",
        "from torch.nn.functional import one_hot\n",
        "import torch.nn as nn\n",
        "import torch.optim as optim\n",
        "\n",
        "import gc\n",
        "from collections import defaultdict\n",
        "import random\n",
        "\n",
        "import warnings\n",
        "warnings.filterwarnings(\"ignore\")"
      ],
      "metadata": {
        "id": "mnoeNmutRdGj"
      },
      "execution_count": 2,
      "outputs": []
    },
    {
      "cell_type": "code",
      "source": [
        "from google.colab import drive\n",
        "drive.mount('/content/drive')\n",
        "\n",
        "root = '/content/drive/MyDrive/study/andan/dl_3_lab/'"
      ],
      "metadata": {
        "colab": {
          "base_uri": "https://localhost:8080/"
        },
        "id": "Z0BKv-fkJr9j",
        "outputId": "3cc2ee2a-dae9-4f1b-fac6-992ba0d06175"
      },
      "execution_count": 3,
      "outputs": [
        {
          "output_type": "stream",
          "name": "stdout",
          "text": [
            "Mounted at /content/drive\n"
          ]
        }
      ]
    },
    {
      "cell_type": "markdown",
      "source": [
        "## Functions"
      ],
      "metadata": {
        "id": "CD6JHQlEo4-s"
      }
    },
    {
      "cell_type": "code",
      "source": [
        "class My_LSTM3(nn.Module):\n",
        "    def __init__(self, features_vocab_total_words, target_vocab_total_words, embedding_dim, hidden_dim):\n",
        "        super(My_LSTM3, self).__init__()\n",
        "        self.embedding = nn.Embedding(features_vocab_total_words, embedding_dim)\n",
        "        self.lstm = nn.LSTM(embedding_dim, hidden_dim[0], batch_first=True)\n",
        "        self.lstm1 = nn.LSTM(hidden_dim[0], hidden_dim[1], batch_first=True)\n",
        "        self.lstm2 = nn.LSTM(hidden_dim[1], hidden_dim[2], batch_first=True)\n",
        "        self.dropout = nn.Dropout(0.5)\n",
        "        self.fc = nn.Linear(hidden_dim[2], target_vocab_total_words)\n",
        "\n",
        "    def forward(self, x):\n",
        "        x = x.to(self.embedding.weight.device)\n",
        "        embedded = self.embedding(x)\n",
        "        lstm_out, _ = self.lstm(embedded)\n",
        "        lstm_out, _ = self.lstm1(lstm_out)\n",
        "        lstm_out, _ = self.lstm2(lstm_out)\n",
        "        lstm_out = self.dropout(lstm_out)\n",
        "        output = self.fc(lstm_out[:, -1, :])\n",
        "        return output"
      ],
      "metadata": {
        "id": "1Uh3zychbjr5"
      },
      "execution_count": 4,
      "outputs": []
    },
    {
      "cell_type": "code",
      "source": [
        "class Markov_Chain:\n",
        "    def __init__(self):\n",
        "        self.transition_counts = defaultdict(lambda: defaultdict(int))\n",
        "        self.transition_probs = {}\n",
        "\n",
        "    def fit(self, data):\n",
        "        for row in data.itertuples(index=False):\n",
        "            input_tokens = row[1:]\n",
        "            target_token = row[0]\n",
        "\n",
        "            last_token = input_tokens[-1]\n",
        "            self.transition_counts[last_token][target_token] += 1\n",
        "\n",
        "        for current_token, next_tokens in self.transition_counts.items():\n",
        "            total = sum(next_tokens.values())\n",
        "            self.transition_probs[current_token] = {\n",
        "                token: count / total for token, count in next_tokens.items()\n",
        "            }\n",
        "            self.transition_probs[current_token] = dict(sorted(self.transition_probs[current_token].items(), key=lambda item: item[1], reverse=True))\n",
        "\n",
        "    def generate_next_token(self, current_token, greedy=True):\n",
        "        if current_token not in self.transition_probs:\n",
        "            return random.choice(list(self.transition_probs.keys()))\n",
        "        if not greedy:\n",
        "            top_3_probs = dict(list(self.transition_probs[current_token].items())[:15])\n",
        "\n",
        "            tokens = list(top_3_probs.keys())\n",
        "            probs = list(top_3_probs.values())\n",
        "            probs = np.array(probs) / np.sum(probs)\n",
        "            return np.random.choice(tokens, p=probs)\n",
        "        return list(self.transition_probs[current_token].keys())[0]"
      ],
      "metadata": {
        "id": "O-qo7OR0jKRw"
      },
      "execution_count": 5,
      "outputs": []
    },
    {
      "cell_type": "code",
      "source": [
        "def calculate_topk_accuracy(model, data_loader, k=3):\n",
        "    model.eval()\n",
        "    correct_predictions = 0\n",
        "    total_predictions = 0\n",
        "\n",
        "    with torch.no_grad():\n",
        "        for batch_x, batch_y in data_loader:\n",
        "            batch_x, batch_y = batch_x.to(device), batch_y.to(device)\n",
        "\n",
        "            output = model(batch_x)\n",
        "\n",
        "            _, predicted_indices = output.topk(k, dim=1)\n",
        "\n",
        "            correct_predictions += torch.any(predicted_indices == torch.argmax(batch_y, dim=1, keepdim=True), dim=1).sum().item()\n",
        "            total_predictions += batch_y.size(0)\n",
        "\n",
        "    accuracy = correct_predictions / total_predictions\n",
        "    return accuracy"
      ],
      "metadata": {
        "id": "v_7qB89LdYO5"
      },
      "execution_count": 6,
      "outputs": []
    },
    {
      "cell_type": "code",
      "source": [
        "def probabilistic_sampling(topk_values, topk_indices):\n",
        "    probs = F.softmax(topk_values, dim=1)\n",
        "    sampled_indices = []\n",
        "    for i in range(probs.size(0)):\n",
        "        idx = torch.multinomial(probs[i], num_samples=1)\n",
        "        sampled_indices.append(topk_indices[i, idx])\n",
        "    return torch.cat(sampled_indices)\n",
        "\n",
        "def greedy_decoding(topk_indices):\n",
        "    return topk_indices[:, 0]"
      ],
      "metadata": {
        "id": "V8LiQ7iGjQlS"
      },
      "execution_count": 7,
      "outputs": []
    },
    {
      "cell_type": "code",
      "source": [
        "num_all_tokens_file = open(root + \"tokens_len.txt\", \"r\")\n",
        "num_all_tokens = int(num_all_tokens_file.read())\n",
        "\n",
        "embedding_dim = num_all_tokens\n",
        "hidden_dim = [1000, 200, 500]\n",
        "epochs = 50\n",
        "device = \"cpu\"\n",
        "save_path = \"./lstm_HP3.pt\""
      ],
      "metadata": {
        "id": "8sjGVJXAciLl"
      },
      "execution_count": 8,
      "outputs": []
    },
    {
      "cell_type": "code",
      "source": [
        "def plot_lc_loss_batch(ax, train_loss):\n",
        "    ax.plot(train_loss, label=f'train loss')\n",
        "    ax.set_xlabel('epoch')\n",
        "    ax.set_ylabel('Loss')\n",
        "    ax.set_title('Loss Learning Curve')\n",
        "    ax.legend()\n",
        "\n",
        "def plot_lc_accuracy_epoch(ax, train_accuracy):\n",
        "    ax.plot(train_accuracy, label=f'train accuracy')\n",
        "    ax.set_xlabel('epoch')\n",
        "    ax.set_ylabel('accuracy')\n",
        "    ax.set_title('Learning Curve')\n",
        "    ax.legend()\n",
        "\n",
        "def plot_lc(losses, train_accuracy):\n",
        "    f, (ax1, ax2) = plt.subplots(1, 2, figsize=(16, 5))\n",
        "    plot_lc_loss_batch(ax1, losses)\n",
        "    plot_lc_accuracy_epoch(ax2, train_accuracy)\n",
        "    plt.show()"
      ],
      "metadata": {
        "id": "4kVBD9TfTrRK"
      },
      "execution_count": null,
      "outputs": []
    },
    {
      "cell_type": "markdown",
      "source": [
        "## Encoding"
      ],
      "metadata": {
        "id": "tKdnLpyUo8cs"
      }
    },
    {
      "cell_type": "code",
      "source": [
        "my_file = open(root + \"HarryPotter1.txt\", \"r\")\n",
        "\n",
        "data = my_file.read()\n",
        "\n",
        "data_into_list = data.split(\"\\n\")\n",
        "sentences = []\n",
        "for i in data_into_list:\n",
        "    if i != \"\":\n",
        "        sentences.append(i.strip())\n",
        "# sentences = sentences[:1000]"
      ],
      "metadata": {
        "id": "z4_-vuA6cS3o"
      },
      "execution_count": null,
      "outputs": []
    },
    {
      "cell_type": "code",
      "source": [
        "tokenizer = Tokenizer(models.BPE())\n",
        "tokenizer.normalizer = NormalizerSequence([NFD(), Lowercase(), StripAccents()])\n",
        "tokenizer.pre_tokenizer = Whitespace()\n",
        "\n",
        "trainer = BpeTrainer(special_tokens=[\"<pad>\", \"<unk>\", \"<bos>\", \"<eos>\"])\n",
        "tokenizer.train_from_iterator(sentences, trainer)\n",
        "\n",
        "tokenizer.post_processor = processors.TemplateProcessing(\n",
        "    single=\"$A <eos>\",\n",
        "    pair=\"$A <eos> $B:1 <eos>:1\",\n",
        "    special_tokens=[(\"<eos>\", tokenizer.token_to_id(\"<eos>\"))]\n",
        ")"
      ],
      "metadata": {
        "id": "2fWKvegSRd9v"
      },
      "execution_count": null,
      "outputs": []
    },
    {
      "cell_type": "code",
      "source": [
        "full_seq = []\n",
        "for sentence in sentences:\n",
        "    encoded = tokenizer.encode(sentence)\n",
        "    full_seq.extend(encoded.ids)"
      ],
      "metadata": {
        "id": "zwYW7BZup5qx"
      },
      "execution_count": null,
      "outputs": []
    },
    {
      "cell_type": "code",
      "source": [
        "sequence_length = 100\n",
        "dataset = []\n",
        "\n",
        "for i in range(len(full_seq) - sequence_length):\n",
        "    prefix = full_seq[i:i + sequence_length]\n",
        "    next_char = full_seq[i + sequence_length]\n",
        "    dataset.append((prefix, next_char))\n",
        "\n",
        "df = pd.DataFrame(dataset, columns=[\"input\", \"target\"])\n",
        "max_len = df[\"input\"].apply(len).max()\n",
        "new_column_names = [f\"{\"input\"}_{i}\" for i in range(max_len)]\n",
        "expanded_df = pd.DataFrame(df[\"input\"].to_list(), columns=new_column_names, index=df.index)\n",
        "df = pd.concat([df, expanded_df], axis=1)\n",
        "df = df.drop(columns=[\"input\"])"
      ],
      "metadata": {
        "id": "gUG6T0gSrmPu"
      },
      "execution_count": null,
      "outputs": []
    },
    {
      "cell_type": "code",
      "source": [
        "df.to_csv(\"dataset_HP2.csv\", index=False)\n",
        "print(\"data saved\")\n",
        "with open('tokens_len2.txt', 'w') as f:\n",
        "    for line in [tokenizer.get_vocab_size()]:\n",
        "        f.write(f\"{line}\")\n",
        "tokenizer.save('saved_tokenizer2.json')\n",
        "print(\"Tokenizer saved\")"
      ],
      "metadata": {
        "id": "FwOhx0t0MB5U"
      },
      "execution_count": null,
      "outputs": []
    },
    {
      "cell_type": "code",
      "source": [
        "df = pd.read_csv(root + \"dataset_HP.csv\")\n",
        "df"
      ],
      "metadata": {
        "colab": {
          "base_uri": "https://localhost:8080/",
          "height": 423
        },
        "id": "-cNPgvEYMIUR",
        "outputId": "54f6ba7c-90ed-4bee-d7b5-89e4d157be0a"
      },
      "execution_count": 9,
      "outputs": [
        {
          "output_type": "execute_result",
          "data": {
            "text/plain": [
              "        target  input_0  input_1  input_2  input_3  input_4  input_5  input_6  \\\n",
              "0         1217       85      388       70       56     1429        6       45   \n",
              "1          216      388       70       56     1429        6       45      469   \n",
              "2         1198       70       56     1429        6       45      469        3   \n",
              "3           10       56     1429        6       45      469        3     1440   \n",
              "4         1836     1429        6       45      469        3     1440      101   \n",
              "...        ...      ...      ...      ...      ...      ...      ...      ...   \n",
              "102938    1068      721      149      132       70      215       12        3   \n",
              "102939       3      149      132       70      215       12        3        5   \n",
              "102940      56      132       70      215       12        3        5      198   \n",
              "102941     313       70      215       12        3        5      198       89   \n",
              "102942       3      215       12        3        5      198       89      261   \n",
              "\n",
              "        input_7  input_8  ...  input_90  input_91  input_92  input_93  \\\n",
              "0           469        3  ...      2679        12        54        86   \n",
              "1             3     1440  ...        12        54        86        27   \n",
              "2          1440      101  ...        54        86        27       960   \n",
              "3           101        3  ...        86        27       960        10   \n",
              "4             3       56  ...        27       960        10      7732   \n",
              "...         ...      ...  ...       ...       ...       ...       ...   \n",
              "102938        5      198  ...        65       200        27       637   \n",
              "102939      198       89  ...       200        27       637        78   \n",
              "102940       89      261  ...        27       637        78       767   \n",
              "102941      261       56  ...       637        78       767       149   \n",
              "102942       56     2286  ...        78       767       149       321   \n",
              "\n",
              "        input_94  input_95  input_96  input_97  input_98  input_99  \n",
              "0             27       960        10      7732       448       149  \n",
              "1            960        10      7732       448       149      1217  \n",
              "2             10      7732       448       149      1217       216  \n",
              "3           7732       448       149      1217       216      1198  \n",
              "4            448       149      1217       216      1198        10  \n",
              "...          ...       ...       ...       ...       ...       ...  \n",
              "102938        78       767       149       321       226      2286  \n",
              "102939       767       149       321       226      2286      1068  \n",
              "102940       149       321       226      2286      1068         3  \n",
              "102941       321       226      2286      1068         3        56  \n",
              "102942       226      2286      1068         3        56       313  \n",
              "\n",
              "[102943 rows x 101 columns]"
            ],
            "text/html": [
              "\n",
              "  <div id=\"df-71e2d2db-ab05-4271-8c5e-d593bb4aecfd\" class=\"colab-df-container\">\n",
              "    <div>\n",
              "<style scoped>\n",
              "    .dataframe tbody tr th:only-of-type {\n",
              "        vertical-align: middle;\n",
              "    }\n",
              "\n",
              "    .dataframe tbody tr th {\n",
              "        vertical-align: top;\n",
              "    }\n",
              "\n",
              "    .dataframe thead th {\n",
              "        text-align: right;\n",
              "    }\n",
              "</style>\n",
              "<table border=\"1\" class=\"dataframe\">\n",
              "  <thead>\n",
              "    <tr style=\"text-align: right;\">\n",
              "      <th></th>\n",
              "      <th>target</th>\n",
              "      <th>input_0</th>\n",
              "      <th>input_1</th>\n",
              "      <th>input_2</th>\n",
              "      <th>input_3</th>\n",
              "      <th>input_4</th>\n",
              "      <th>input_5</th>\n",
              "      <th>input_6</th>\n",
              "      <th>input_7</th>\n",
              "      <th>input_8</th>\n",
              "      <th>...</th>\n",
              "      <th>input_90</th>\n",
              "      <th>input_91</th>\n",
              "      <th>input_92</th>\n",
              "      <th>input_93</th>\n",
              "      <th>input_94</th>\n",
              "      <th>input_95</th>\n",
              "      <th>input_96</th>\n",
              "      <th>input_97</th>\n",
              "      <th>input_98</th>\n",
              "      <th>input_99</th>\n",
              "    </tr>\n",
              "  </thead>\n",
              "  <tbody>\n",
              "    <tr>\n",
              "      <th>0</th>\n",
              "      <td>1217</td>\n",
              "      <td>85</td>\n",
              "      <td>388</td>\n",
              "      <td>70</td>\n",
              "      <td>56</td>\n",
              "      <td>1429</td>\n",
              "      <td>6</td>\n",
              "      <td>45</td>\n",
              "      <td>469</td>\n",
              "      <td>3</td>\n",
              "      <td>...</td>\n",
              "      <td>2679</td>\n",
              "      <td>12</td>\n",
              "      <td>54</td>\n",
              "      <td>86</td>\n",
              "      <td>27</td>\n",
              "      <td>960</td>\n",
              "      <td>10</td>\n",
              "      <td>7732</td>\n",
              "      <td>448</td>\n",
              "      <td>149</td>\n",
              "    </tr>\n",
              "    <tr>\n",
              "      <th>1</th>\n",
              "      <td>216</td>\n",
              "      <td>388</td>\n",
              "      <td>70</td>\n",
              "      <td>56</td>\n",
              "      <td>1429</td>\n",
              "      <td>6</td>\n",
              "      <td>45</td>\n",
              "      <td>469</td>\n",
              "      <td>3</td>\n",
              "      <td>1440</td>\n",
              "      <td>...</td>\n",
              "      <td>12</td>\n",
              "      <td>54</td>\n",
              "      <td>86</td>\n",
              "      <td>27</td>\n",
              "      <td>960</td>\n",
              "      <td>10</td>\n",
              "      <td>7732</td>\n",
              "      <td>448</td>\n",
              "      <td>149</td>\n",
              "      <td>1217</td>\n",
              "    </tr>\n",
              "    <tr>\n",
              "      <th>2</th>\n",
              "      <td>1198</td>\n",
              "      <td>70</td>\n",
              "      <td>56</td>\n",
              "      <td>1429</td>\n",
              "      <td>6</td>\n",
              "      <td>45</td>\n",
              "      <td>469</td>\n",
              "      <td>3</td>\n",
              "      <td>1440</td>\n",
              "      <td>101</td>\n",
              "      <td>...</td>\n",
              "      <td>54</td>\n",
              "      <td>86</td>\n",
              "      <td>27</td>\n",
              "      <td>960</td>\n",
              "      <td>10</td>\n",
              "      <td>7732</td>\n",
              "      <td>448</td>\n",
              "      <td>149</td>\n",
              "      <td>1217</td>\n",
              "      <td>216</td>\n",
              "    </tr>\n",
              "    <tr>\n",
              "      <th>3</th>\n",
              "      <td>10</td>\n",
              "      <td>56</td>\n",
              "      <td>1429</td>\n",
              "      <td>6</td>\n",
              "      <td>45</td>\n",
              "      <td>469</td>\n",
              "      <td>3</td>\n",
              "      <td>1440</td>\n",
              "      <td>101</td>\n",
              "      <td>3</td>\n",
              "      <td>...</td>\n",
              "      <td>86</td>\n",
              "      <td>27</td>\n",
              "      <td>960</td>\n",
              "      <td>10</td>\n",
              "      <td>7732</td>\n",
              "      <td>448</td>\n",
              "      <td>149</td>\n",
              "      <td>1217</td>\n",
              "      <td>216</td>\n",
              "      <td>1198</td>\n",
              "    </tr>\n",
              "    <tr>\n",
              "      <th>4</th>\n",
              "      <td>1836</td>\n",
              "      <td>1429</td>\n",
              "      <td>6</td>\n",
              "      <td>45</td>\n",
              "      <td>469</td>\n",
              "      <td>3</td>\n",
              "      <td>1440</td>\n",
              "      <td>101</td>\n",
              "      <td>3</td>\n",
              "      <td>56</td>\n",
              "      <td>...</td>\n",
              "      <td>27</td>\n",
              "      <td>960</td>\n",
              "      <td>10</td>\n",
              "      <td>7732</td>\n",
              "      <td>448</td>\n",
              "      <td>149</td>\n",
              "      <td>1217</td>\n",
              "      <td>216</td>\n",
              "      <td>1198</td>\n",
              "      <td>10</td>\n",
              "    </tr>\n",
              "    <tr>\n",
              "      <th>...</th>\n",
              "      <td>...</td>\n",
              "      <td>...</td>\n",
              "      <td>...</td>\n",
              "      <td>...</td>\n",
              "      <td>...</td>\n",
              "      <td>...</td>\n",
              "      <td>...</td>\n",
              "      <td>...</td>\n",
              "      <td>...</td>\n",
              "      <td>...</td>\n",
              "      <td>...</td>\n",
              "      <td>...</td>\n",
              "      <td>...</td>\n",
              "      <td>...</td>\n",
              "      <td>...</td>\n",
              "      <td>...</td>\n",
              "      <td>...</td>\n",
              "      <td>...</td>\n",
              "      <td>...</td>\n",
              "      <td>...</td>\n",
              "      <td>...</td>\n",
              "    </tr>\n",
              "    <tr>\n",
              "      <th>102938</th>\n",
              "      <td>1068</td>\n",
              "      <td>721</td>\n",
              "      <td>149</td>\n",
              "      <td>132</td>\n",
              "      <td>70</td>\n",
              "      <td>215</td>\n",
              "      <td>12</td>\n",
              "      <td>3</td>\n",
              "      <td>5</td>\n",
              "      <td>198</td>\n",
              "      <td>...</td>\n",
              "      <td>65</td>\n",
              "      <td>200</td>\n",
              "      <td>27</td>\n",
              "      <td>637</td>\n",
              "      <td>78</td>\n",
              "      <td>767</td>\n",
              "      <td>149</td>\n",
              "      <td>321</td>\n",
              "      <td>226</td>\n",
              "      <td>2286</td>\n",
              "    </tr>\n",
              "    <tr>\n",
              "      <th>102939</th>\n",
              "      <td>3</td>\n",
              "      <td>149</td>\n",
              "      <td>132</td>\n",
              "      <td>70</td>\n",
              "      <td>215</td>\n",
              "      <td>12</td>\n",
              "      <td>3</td>\n",
              "      <td>5</td>\n",
              "      <td>198</td>\n",
              "      <td>89</td>\n",
              "      <td>...</td>\n",
              "      <td>200</td>\n",
              "      <td>27</td>\n",
              "      <td>637</td>\n",
              "      <td>78</td>\n",
              "      <td>767</td>\n",
              "      <td>149</td>\n",
              "      <td>321</td>\n",
              "      <td>226</td>\n",
              "      <td>2286</td>\n",
              "      <td>1068</td>\n",
              "    </tr>\n",
              "    <tr>\n",
              "      <th>102940</th>\n",
              "      <td>56</td>\n",
              "      <td>132</td>\n",
              "      <td>70</td>\n",
              "      <td>215</td>\n",
              "      <td>12</td>\n",
              "      <td>3</td>\n",
              "      <td>5</td>\n",
              "      <td>198</td>\n",
              "      <td>89</td>\n",
              "      <td>261</td>\n",
              "      <td>...</td>\n",
              "      <td>27</td>\n",
              "      <td>637</td>\n",
              "      <td>78</td>\n",
              "      <td>767</td>\n",
              "      <td>149</td>\n",
              "      <td>321</td>\n",
              "      <td>226</td>\n",
              "      <td>2286</td>\n",
              "      <td>1068</td>\n",
              "      <td>3</td>\n",
              "    </tr>\n",
              "    <tr>\n",
              "      <th>102941</th>\n",
              "      <td>313</td>\n",
              "      <td>70</td>\n",
              "      <td>215</td>\n",
              "      <td>12</td>\n",
              "      <td>3</td>\n",
              "      <td>5</td>\n",
              "      <td>198</td>\n",
              "      <td>89</td>\n",
              "      <td>261</td>\n",
              "      <td>56</td>\n",
              "      <td>...</td>\n",
              "      <td>637</td>\n",
              "      <td>78</td>\n",
              "      <td>767</td>\n",
              "      <td>149</td>\n",
              "      <td>321</td>\n",
              "      <td>226</td>\n",
              "      <td>2286</td>\n",
              "      <td>1068</td>\n",
              "      <td>3</td>\n",
              "      <td>56</td>\n",
              "    </tr>\n",
              "    <tr>\n",
              "      <th>102942</th>\n",
              "      <td>3</td>\n",
              "      <td>215</td>\n",
              "      <td>12</td>\n",
              "      <td>3</td>\n",
              "      <td>5</td>\n",
              "      <td>198</td>\n",
              "      <td>89</td>\n",
              "      <td>261</td>\n",
              "      <td>56</td>\n",
              "      <td>2286</td>\n",
              "      <td>...</td>\n",
              "      <td>78</td>\n",
              "      <td>767</td>\n",
              "      <td>149</td>\n",
              "      <td>321</td>\n",
              "      <td>226</td>\n",
              "      <td>2286</td>\n",
              "      <td>1068</td>\n",
              "      <td>3</td>\n",
              "      <td>56</td>\n",
              "      <td>313</td>\n",
              "    </tr>\n",
              "  </tbody>\n",
              "</table>\n",
              "<p>102943 rows × 101 columns</p>\n",
              "</div>\n",
              "    <div class=\"colab-df-buttons\">\n",
              "\n",
              "  <div class=\"colab-df-container\">\n",
              "    <button class=\"colab-df-convert\" onclick=\"convertToInteractive('df-71e2d2db-ab05-4271-8c5e-d593bb4aecfd')\"\n",
              "            title=\"Convert this dataframe to an interactive table.\"\n",
              "            style=\"display:none;\">\n",
              "\n",
              "  <svg xmlns=\"http://www.w3.org/2000/svg\" height=\"24px\" viewBox=\"0 -960 960 960\">\n",
              "    <path d=\"M120-120v-720h720v720H120Zm60-500h600v-160H180v160Zm220 220h160v-160H400v160Zm0 220h160v-160H400v160ZM180-400h160v-160H180v160Zm440 0h160v-160H620v160ZM180-180h160v-160H180v160Zm440 0h160v-160H620v160Z\"/>\n",
              "  </svg>\n",
              "    </button>\n",
              "\n",
              "  <style>\n",
              "    .colab-df-container {\n",
              "      display:flex;\n",
              "      gap: 12px;\n",
              "    }\n",
              "\n",
              "    .colab-df-convert {\n",
              "      background-color: #E8F0FE;\n",
              "      border: none;\n",
              "      border-radius: 50%;\n",
              "      cursor: pointer;\n",
              "      display: none;\n",
              "      fill: #1967D2;\n",
              "      height: 32px;\n",
              "      padding: 0 0 0 0;\n",
              "      width: 32px;\n",
              "    }\n",
              "\n",
              "    .colab-df-convert:hover {\n",
              "      background-color: #E2EBFA;\n",
              "      box-shadow: 0px 1px 2px rgba(60, 64, 67, 0.3), 0px 1px 3px 1px rgba(60, 64, 67, 0.15);\n",
              "      fill: #174EA6;\n",
              "    }\n",
              "\n",
              "    .colab-df-buttons div {\n",
              "      margin-bottom: 4px;\n",
              "    }\n",
              "\n",
              "    [theme=dark] .colab-df-convert {\n",
              "      background-color: #3B4455;\n",
              "      fill: #D2E3FC;\n",
              "    }\n",
              "\n",
              "    [theme=dark] .colab-df-convert:hover {\n",
              "      background-color: #434B5C;\n",
              "      box-shadow: 0px 1px 3px 1px rgba(0, 0, 0, 0.15);\n",
              "      filter: drop-shadow(0px 1px 2px rgba(0, 0, 0, 0.3));\n",
              "      fill: #FFFFFF;\n",
              "    }\n",
              "  </style>\n",
              "\n",
              "    <script>\n",
              "      const buttonEl =\n",
              "        document.querySelector('#df-71e2d2db-ab05-4271-8c5e-d593bb4aecfd button.colab-df-convert');\n",
              "      buttonEl.style.display =\n",
              "        google.colab.kernel.accessAllowed ? 'block' : 'none';\n",
              "\n",
              "      async function convertToInteractive(key) {\n",
              "        const element = document.querySelector('#df-71e2d2db-ab05-4271-8c5e-d593bb4aecfd');\n",
              "        const dataTable =\n",
              "          await google.colab.kernel.invokeFunction('convertToInteractive',\n",
              "                                                    [key], {});\n",
              "        if (!dataTable) return;\n",
              "\n",
              "        const docLinkHtml = 'Like what you see? Visit the ' +\n",
              "          '<a target=\"_blank\" href=https://colab.research.google.com/notebooks/data_table.ipynb>data table notebook</a>'\n",
              "          + ' to learn more about interactive tables.';\n",
              "        element.innerHTML = '';\n",
              "        dataTable['output_type'] = 'display_data';\n",
              "        await google.colab.output.renderOutput(dataTable, element);\n",
              "        const docLink = document.createElement('div');\n",
              "        docLink.innerHTML = docLinkHtml;\n",
              "        element.appendChild(docLink);\n",
              "      }\n",
              "    </script>\n",
              "  </div>\n",
              "\n",
              "\n",
              "<div id=\"df-552e0d25-f737-462d-9739-187dbe8a953d\">\n",
              "  <button class=\"colab-df-quickchart\" onclick=\"quickchart('df-552e0d25-f737-462d-9739-187dbe8a953d')\"\n",
              "            title=\"Suggest charts\"\n",
              "            style=\"display:none;\">\n",
              "\n",
              "<svg xmlns=\"http://www.w3.org/2000/svg\" height=\"24px\"viewBox=\"0 0 24 24\"\n",
              "     width=\"24px\">\n",
              "    <g>\n",
              "        <path d=\"M19 3H5c-1.1 0-2 .9-2 2v14c0 1.1.9 2 2 2h14c1.1 0 2-.9 2-2V5c0-1.1-.9-2-2-2zM9 17H7v-7h2v7zm4 0h-2V7h2v10zm4 0h-2v-4h2v4z\"/>\n",
              "    </g>\n",
              "</svg>\n",
              "  </button>\n",
              "\n",
              "<style>\n",
              "  .colab-df-quickchart {\n",
              "      --bg-color: #E8F0FE;\n",
              "      --fill-color: #1967D2;\n",
              "      --hover-bg-color: #E2EBFA;\n",
              "      --hover-fill-color: #174EA6;\n",
              "      --disabled-fill-color: #AAA;\n",
              "      --disabled-bg-color: #DDD;\n",
              "  }\n",
              "\n",
              "  [theme=dark] .colab-df-quickchart {\n",
              "      --bg-color: #3B4455;\n",
              "      --fill-color: #D2E3FC;\n",
              "      --hover-bg-color: #434B5C;\n",
              "      --hover-fill-color: #FFFFFF;\n",
              "      --disabled-bg-color: #3B4455;\n",
              "      --disabled-fill-color: #666;\n",
              "  }\n",
              "\n",
              "  .colab-df-quickchart {\n",
              "    background-color: var(--bg-color);\n",
              "    border: none;\n",
              "    border-radius: 50%;\n",
              "    cursor: pointer;\n",
              "    display: none;\n",
              "    fill: var(--fill-color);\n",
              "    height: 32px;\n",
              "    padding: 0;\n",
              "    width: 32px;\n",
              "  }\n",
              "\n",
              "  .colab-df-quickchart:hover {\n",
              "    background-color: var(--hover-bg-color);\n",
              "    box-shadow: 0 1px 2px rgba(60, 64, 67, 0.3), 0 1px 3px 1px rgba(60, 64, 67, 0.15);\n",
              "    fill: var(--button-hover-fill-color);\n",
              "  }\n",
              "\n",
              "  .colab-df-quickchart-complete:disabled,\n",
              "  .colab-df-quickchart-complete:disabled:hover {\n",
              "    background-color: var(--disabled-bg-color);\n",
              "    fill: var(--disabled-fill-color);\n",
              "    box-shadow: none;\n",
              "  }\n",
              "\n",
              "  .colab-df-spinner {\n",
              "    border: 2px solid var(--fill-color);\n",
              "    border-color: transparent;\n",
              "    border-bottom-color: var(--fill-color);\n",
              "    animation:\n",
              "      spin 1s steps(1) infinite;\n",
              "  }\n",
              "\n",
              "  @keyframes spin {\n",
              "    0% {\n",
              "      border-color: transparent;\n",
              "      border-bottom-color: var(--fill-color);\n",
              "      border-left-color: var(--fill-color);\n",
              "    }\n",
              "    20% {\n",
              "      border-color: transparent;\n",
              "      border-left-color: var(--fill-color);\n",
              "      border-top-color: var(--fill-color);\n",
              "    }\n",
              "    30% {\n",
              "      border-color: transparent;\n",
              "      border-left-color: var(--fill-color);\n",
              "      border-top-color: var(--fill-color);\n",
              "      border-right-color: var(--fill-color);\n",
              "    }\n",
              "    40% {\n",
              "      border-color: transparent;\n",
              "      border-right-color: var(--fill-color);\n",
              "      border-top-color: var(--fill-color);\n",
              "    }\n",
              "    60% {\n",
              "      border-color: transparent;\n",
              "      border-right-color: var(--fill-color);\n",
              "    }\n",
              "    80% {\n",
              "      border-color: transparent;\n",
              "      border-right-color: var(--fill-color);\n",
              "      border-bottom-color: var(--fill-color);\n",
              "    }\n",
              "    90% {\n",
              "      border-color: transparent;\n",
              "      border-bottom-color: var(--fill-color);\n",
              "    }\n",
              "  }\n",
              "</style>\n",
              "\n",
              "  <script>\n",
              "    async function quickchart(key) {\n",
              "      const quickchartButtonEl =\n",
              "        document.querySelector('#' + key + ' button');\n",
              "      quickchartButtonEl.disabled = true;  // To prevent multiple clicks.\n",
              "      quickchartButtonEl.classList.add('colab-df-spinner');\n",
              "      try {\n",
              "        const charts = await google.colab.kernel.invokeFunction(\n",
              "            'suggestCharts', [key], {});\n",
              "      } catch (error) {\n",
              "        console.error('Error during call to suggestCharts:', error);\n",
              "      }\n",
              "      quickchartButtonEl.classList.remove('colab-df-spinner');\n",
              "      quickchartButtonEl.classList.add('colab-df-quickchart-complete');\n",
              "    }\n",
              "    (() => {\n",
              "      let quickchartButtonEl =\n",
              "        document.querySelector('#df-552e0d25-f737-462d-9739-187dbe8a953d button');\n",
              "      quickchartButtonEl.style.display =\n",
              "        google.colab.kernel.accessAllowed ? 'block' : 'none';\n",
              "    })();\n",
              "  </script>\n",
              "</div>\n",
              "\n",
              "  <div id=\"id_027cbc3e-d87e-4191-831e-09a213038c34\">\n",
              "    <style>\n",
              "      .colab-df-generate {\n",
              "        background-color: #E8F0FE;\n",
              "        border: none;\n",
              "        border-radius: 50%;\n",
              "        cursor: pointer;\n",
              "        display: none;\n",
              "        fill: #1967D2;\n",
              "        height: 32px;\n",
              "        padding: 0 0 0 0;\n",
              "        width: 32px;\n",
              "      }\n",
              "\n",
              "      .colab-df-generate:hover {\n",
              "        background-color: #E2EBFA;\n",
              "        box-shadow: 0px 1px 2px rgba(60, 64, 67, 0.3), 0px 1px 3px 1px rgba(60, 64, 67, 0.15);\n",
              "        fill: #174EA6;\n",
              "      }\n",
              "\n",
              "      [theme=dark] .colab-df-generate {\n",
              "        background-color: #3B4455;\n",
              "        fill: #D2E3FC;\n",
              "      }\n",
              "\n",
              "      [theme=dark] .colab-df-generate:hover {\n",
              "        background-color: #434B5C;\n",
              "        box-shadow: 0px 1px 3px 1px rgba(0, 0, 0, 0.15);\n",
              "        filter: drop-shadow(0px 1px 2px rgba(0, 0, 0, 0.3));\n",
              "        fill: #FFFFFF;\n",
              "      }\n",
              "    </style>\n",
              "    <button class=\"colab-df-generate\" onclick=\"generateWithVariable('df')\"\n",
              "            title=\"Generate code using this dataframe.\"\n",
              "            style=\"display:none;\">\n",
              "\n",
              "  <svg xmlns=\"http://www.w3.org/2000/svg\" height=\"24px\"viewBox=\"0 0 24 24\"\n",
              "       width=\"24px\">\n",
              "    <path d=\"M7,19H8.4L18.45,9,17,7.55,7,17.6ZM5,21V16.75L18.45,3.32a2,2,0,0,1,2.83,0l1.4,1.43a1.91,1.91,0,0,1,.58,1.4,1.91,1.91,0,0,1-.58,1.4L9.25,21ZM18.45,9,17,7.55Zm-12,3A5.31,5.31,0,0,0,4.9,8.1,5.31,5.31,0,0,0,1,6.5,5.31,5.31,0,0,0,4.9,4.9,5.31,5.31,0,0,0,6.5,1,5.31,5.31,0,0,0,8.1,4.9,5.31,5.31,0,0,0,12,6.5,5.46,5.46,0,0,0,6.5,12Z\"/>\n",
              "  </svg>\n",
              "    </button>\n",
              "    <script>\n",
              "      (() => {\n",
              "      const buttonEl =\n",
              "        document.querySelector('#id_027cbc3e-d87e-4191-831e-09a213038c34 button.colab-df-generate');\n",
              "      buttonEl.style.display =\n",
              "        google.colab.kernel.accessAllowed ? 'block' : 'none';\n",
              "\n",
              "      buttonEl.onclick = () => {\n",
              "        google.colab.notebook.generateWithVariable('df');\n",
              "      }\n",
              "      })();\n",
              "    </script>\n",
              "  </div>\n",
              "\n",
              "    </div>\n",
              "  </div>\n"
            ],
            "application/vnd.google.colaboratory.intrinsic+json": {
              "type": "dataframe",
              "variable_name": "df"
            }
          },
          "metadata": {},
          "execution_count": 9
        }
      ]
    },
    {
      "cell_type": "code",
      "source": [
        "tokenizer = Tokenizer.from_file(root + 'saved_tokenizer.json')\n",
        "num_all_tokens = tokenizer.get_vocab_size()\n",
        "with open('tokens_len.txt', 'w') as f:\n",
        "    for line in [num_all_tokens]:\n",
        "        f.write(f\"{line}\")\n",
        "\n",
        "num_all_tokens_file = open(\"./tokens_len.txt\", \"r\")\n",
        "\n",
        "num_all_tokens = int(num_all_tokens_file.read())\n",
        "num_all_tokens"
      ],
      "metadata": {
        "colab": {
          "base_uri": "https://localhost:8080/"
        },
        "id": "HRwRpfbY1joe",
        "outputId": "814c8259-b032-4ea9-9ef6-dd1005642fc2"
      },
      "execution_count": 32,
      "outputs": [
        {
          "output_type": "execute_result",
          "data": {
            "text/plain": [
              "8283"
            ]
          },
          "metadata": {},
          "execution_count": 32
        }
      ]
    },
    {
      "cell_type": "markdown",
      "source": [
        "## DataProc"
      ],
      "metadata": {
        "id": "zPqz-PHupEKJ"
      }
    },
    {
      "cell_type": "code",
      "source": [
        "X = df.drop(columns=['target'])\n",
        "X_tensor = torch.tensor(X.values)\n",
        "\n",
        "y = df.target\n",
        "y_one_hot = one_hot(torch.tensor(y), num_classes=num_all_tokens)\n",
        "data = TensorDataset(X_tensor, y_one_hot)"
      ],
      "metadata": {
        "id": "BAFk32ZpxxrO"
      },
      "execution_count": null,
      "outputs": []
    },
    {
      "cell_type": "code",
      "source": [
        "train_size = int(0.8 * len(data))\n",
        "test_size = len(data) - train_size\n",
        "batch_size = 128\n",
        "\n",
        "train_data, test_data = random_split(data, [train_size, test_size])\n",
        "\n",
        "train_loader = torch.utils.data.DataLoader(train_data, batch_size=16, shuffle = True, pin_memory=True, num_workers=2)\n",
        "test_loader = torch.utils.data.DataLoader(test_data, batch_size=16, shuffle = False)"
      ],
      "metadata": {
        "id": "evfYoPTb2G3k"
      },
      "execution_count": null,
      "outputs": []
    },
    {
      "cell_type": "markdown",
      "source": [
        "## Learning"
      ],
      "metadata": {
        "id": "HFHcMPMWpI9T"
      }
    },
    {
      "cell_type": "code",
      "source": [
        "model = My_LSTM3(num_all_tokens, num_all_tokens, embedding_dim=embedding_dim, hidden_dim=hidden_dim)\n",
        "\n",
        "criterion = nn.CrossEntropyLoss()\n",
        "optimizer = optim.Adam(model.parameters(), lr=0.001)\n",
        "\n",
        "best_accuracy = 0\n",
        "all_accuracies = []\n",
        "all_losses = []\n",
        "model.to(device)\n",
        "for epoch in range(epochs):\n",
        "    model.train()\n",
        "    for batch_X, batch_y in train_loader:\n",
        "        batch_X, batch_y = batch_X.to(device), batch_y.to(device)\n",
        "        optimizer.zero_grad()\n",
        "        outputs = model(batch_X)\n",
        "        loss = criterion(outputs, batch_y.argmax(dim=1))\n",
        "        loss.backward()\n",
        "        optimizer.step()\n",
        "\n",
        "    # if epoch % 5 == 0:\n",
        "    accuracy = calculate_topk_accuracy(model, train_loader)\n",
        "    print(f'Epoch {epoch}/{epochs}, Loss: {loss.item():.4f}, Train K-Accuracy: {accuracy * 100:.2f}%')\n",
        "    all_accuracies.append(accuracy)\n",
        "    all_losses.append(loss.item())\n",
        "    if accuracy > best_accuracy:\n",
        "        torch.save(model.state_dict(), save_path)\n",
        "        best_accuracy = accuracy\n",
        "\n",
        "print(\"Train done\")\n",
        "with open('all_losses4.txt', 'w') as f:\n",
        "    for line in all_losses:\n",
        "        f.write(f\"{line}\\n\")\n",
        "print(\"Losses saved\")\n",
        "\n",
        "with open('all_accuracies_train4.txt', 'w') as f:\n",
        "    for line in all_accuracies:\n",
        "        f.write(f\"{line}\\n\")\n",
        "print(\"Accuracies saved\")"
      ],
      "metadata": {
        "id": "0vSO4etd5PEA",
        "colab": {
          "base_uri": "https://localhost:8080/"
        },
        "outputId": "ee8a3a53-b45a-414f-f591-c6b593651a0d"
      },
      "execution_count": null,
      "outputs": [
        {
          "output_type": "stream",
          "name": "stdout",
          "text": [
            "Epoch 0/5, Loss: 5.3103, Train K-Accuracy: 34.86%\n",
            "Epoch 1/5, Loss: 3.9741, Train K-Accuracy: 40.91%\n",
            "Epoch 2/5, Loss: 3.6189, Train K-Accuracy: 45.62%\n",
            "Epoch 3/5, Loss: 5.1540, Train K-Accuracy: 49.22%\n",
            "Epoch 4/5, Loss: 2.2103, Train K-Accuracy: 51.55%\n"
          ]
        }
      ]
    },
    {
      "cell_type": "code",
      "source": [
        "my_file = open(root + \"all_losses4.txt\", \"r\")\n",
        "\n",
        "data = my_file.read()\n",
        "\n",
        "losses_ = data.split(\"\\n\")\n",
        "losses = [float(i) for i in losses_ if i != \"\"]\n",
        "\n",
        "my_file = open(root + \"all_accuracies_train4.txt\", \"r\")\n",
        "\n",
        "data = my_file.read()\n",
        "\n",
        "train_accuracy_ = data.split(\"\\n\")\n",
        "train_accuracy = [float(i) for i in train_accuracy_ if i != \"\"]\n",
        "plot_lc(losses, train_accuracy)"
      ],
      "metadata": {
        "colab": {
          "base_uri": "https://localhost:8080/",
          "height": 487
        },
        "id": "i0uU3ZI1SNvK",
        "outputId": "0b2375b1-f25d-4006-a3a7-e2fdd374862a"
      },
      "execution_count": 23,
      "outputs": [
        {
          "output_type": "display_data",
          "data": {
            "text/plain": [
              "<Figure size 1600x500 with 2 Axes>"
            ],
            "image/png": "[encoded data removed]"
          },
          "metadata": {}
        }
      ]
    },
    {
      "cell_type": "markdown",
      "source": [
        "## Generation\n",
        "6. Реализуйте генерацию текста на основе жадного и случайного выбора очередного токена. Случайность должна быть не равновероятной, а основываться на предсказываемых вероятностях.\n"
      ],
      "metadata": {
        "id": "Nt1dpmDtIIGT"
      }
    },
    {
      "cell_type": "markdown",
      "source": [
        "### LSTM"
      ],
      "metadata": {
        "id": "Oz1Ef_cUpYNm"
      }
    },
    {
      "cell_type": "code",
      "source": [
        "df = pd.read_csv(root + \"dataset_HP.csv\")\n",
        "target_unique_vals = df.target.value_counts().size\n",
        "num_all_tokens_file = open(root + \"tokens_len.txt\", \"r\")\n",
        "num_all_tokens = int(num_all_tokens_file.read())"
      ],
      "metadata": {
        "id": "VyK9VOzCKpRh"
      },
      "execution_count": null,
      "outputs": []
    },
    {
      "cell_type": "code",
      "source": [
        "model = My_LSTM3(num_all_tokens, num_all_tokens, embedding_dim=embedding_dim, hidden_dim=hidden_dim)\n",
        "model.load_state_dict(torch.load(root + \"lstm_HP4.pt\", map_location=torch.device('cpu')))\n",
        "model.to(device)"
      ],
      "metadata": {
        "colab": {
          "base_uri": "https://localhost:8080/"
        },
        "id": "MIJPCPHIKPHH",
        "outputId": "1adba900-eb20-48ee-9dce-280479feb129"
      },
      "execution_count": null,
      "outputs": [
        {
          "output_type": "execute_result",
          "data": {
            "text/plain": [
              "My_LSTM3(\n",
              "  (embedding): Embedding(8283, 8283)\n",
              "  (lstm): LSTM(8283, 1000, batch_first=True)\n",
              "  (lstm1): LSTM(1000, 200, batch_first=True)\n",
              "  (lstm2): LSTM(200, 500, batch_first=True)\n",
              "  (dropout): Dropout(p=0.5, inplace=False)\n",
              "  (fc): Linear(in_features=500, out_features=8283, bias=True)\n",
              ")"
            ]
          },
          "metadata": {},
          "execution_count": 12
        }
      ]
    },
    {
      "cell_type": "code",
      "source": [
        "tokenizer = Tokenizer.from_file(root + 'saved_tokenizer.json')"
      ],
      "metadata": {
        "id": "H-S9IfnYYccu"
      },
      "execution_count": null,
      "outputs": []
    },
    {
      "cell_type": "code",
      "source": [
        "num_gen_sentences = 5\n",
        "start_sentence = tokenizer.encode(\"He dashed back across the road, hurried up to his office, snapped at his secretary not to disturb him, seized his telephone, and had almost finished dialing his home number when he changed.\" +\n",
        "                 \"his mind. He put the receiver back down and stroked his mustache, thinking... no, he was being stupid. Potter wasn't such an unusual name. He was sure there were\" +\n",
        "                 \"lots of people called Potter who had a son called Harry. Come to think of it, he wasn't even sure \")\n",
        "st = np.array(start_sentence.ids)"
      ],
      "metadata": {
        "id": "G1r5cdwHfHHU"
      },
      "execution_count": null,
      "outputs": []
    },
    {
      "cell_type": "markdown",
      "source": [
        "greedy"
      ],
      "metadata": {
        "id": "GtX5a8s4V2SS"
      }
    },
    {
      "cell_type": "code",
      "source": [
        "gen_sen = 0\n",
        "\n",
        "for www in range(1, 1000):\n",
        "    start = torch.tensor(st[np.newaxis, :])\n",
        "    with torch.no_grad():\n",
        "        output = model(start)\n",
        "    topk_values, topk_indices = output.topk(3, dim=1)\n",
        "    result_token = greedy_decoding(topk_indices).tolist()\n",
        "    a_dropped = st[1:]\n",
        "    st = np.append(a_dropped, result_token)\n",
        "    if result_token[0] == 3:\n",
        "        gen_sen += 1\n",
        "        if gen_sen >= num_gen_sentences:\n",
        "            break\n",
        "        print()\n",
        "        print()\n",
        "        continue\n",
        "    result_word = tokenizer.decode(result_token)\n",
        "    print(result_word, end=' ')"
      ],
      "metadata": {
        "colab": {
          "base_uri": "https://localhost:8080/"
        },
        "id": "HpTVQI_1cwtw",
        "outputId": "4511dd96-b4b2-4fb0-feaa-49a470d60b67"
      },
      "execution_count": null,
      "outputs": [
        {
          "output_type": "stream",
          "name": "stdout",
          "text": [
            "the stone , and they had been a lot of books and was a lot of books and had been looking with the door . \n",
            "\n",
            "\" i ' m not going to get past a hundred of magic .\" \n",
            "\n",
            "\" what ' s a few - wizard , and i ' ve got the house cup , but i ' ve got a stone cup of books .\" \n",
            "\n",
            "\" well , i ' m not going to get us .\" \n",
            "\n",
            "\" i ' m not going to get me to get up . "
          ]
        }
      ]
    },
    {
      "cell_type": "markdown",
      "source": [
        "probabilistic_sampling"
      ],
      "metadata": {
        "id": "qWzRWUuuV3pT"
      }
    },
    {
      "cell_type": "code",
      "source": [
        "gen_sen = 0\n",
        "for www in range(1, 1000):\n",
        "    start = torch.tensor(st[np.newaxis, :])\n",
        "    with torch.no_grad():\n",
        "        output = model(start)\n",
        "    topk_values, topk_indices = output.topk(3, dim=1)\n",
        "    result_token = probabilistic_sampling(topk_values, topk_indices).tolist()\n",
        "    a_dropped = st[1:]\n",
        "    st = np.append(a_dropped, result_token)\n",
        "    if result_token[0] == 3:\n",
        "        gen_sen += 1\n",
        "        if gen_sen >= num_gen_sentences:\n",
        "            break\n",
        "        print()\n",
        "        print()\n",
        "        continue\n",
        "    result_word = tokenizer.decode(result_token)\n",
        "    print(result_word, end=' ')"
      ],
      "metadata": {
        "colab": {
          "base_uri": "https://localhost:8080/"
        },
        "id": "z1CcT5NuXSTB",
        "outputId": "fd3b1b83-c030-4799-90e6-e56983a05534"
      },
      "execution_count": null,
      "outputs": [
        {
          "output_type": "stream",
          "name": "stdout",
          "text": [
            "\" you ' ve just been past me , but i ' m not good .\" \n",
            "\n",
            "he had a eyes , and harry had been a lot of one of them had been enough . he ' d been to find me on the other room , and a large balls - oak . \n",
            "\n",
            "\" i ' ve never got to be past your time to get past the house . \n",
            "\n",
            "harry had been been to try to be in trouble in a little - two of books and he had never been to a dark of one of the door and had been in his time to do that , and he had a very first - floor man of them , and they had been a bit on the door . \n",
            "\n",
            "\" i ' m not going to get past the same .\" "
          ]
        }
      ]
    },
    {
      "cell_type": "markdown",
      "source": [
        "## Markov chain"
      ],
      "metadata": {
        "id": "OJHqRavxcIPM"
      }
    },
    {
      "cell_type": "code",
      "source": [
        "mc_model = Markov_Chain()\n",
        "mc_model.fit(df)"
      ],
      "metadata": {
        "id": "hvlNtjEVrMf8"
      },
      "execution_count": 24,
      "outputs": []
    },
    {
      "cell_type": "markdown",
      "source": [
        "probabilistic_sampling"
      ],
      "metadata": {
        "id": "kAFsfM4UV46C"
      }
    },
    {
      "cell_type": "code",
      "source": [
        "cur_token = 53\n",
        "for www in range(1, 200):\n",
        "    result_token = mc_model.generate_next_token(cur_token, greedy=False)\n",
        "    result_word = tokenizer.decode([result_token])\n",
        "    cur_token = result_token\n",
        "    print(result_word, end=' ')\n",
        "    if www % 15 == 0:\n",
        "        print()"
      ],
      "metadata": {
        "colab": {
          "base_uri": "https://localhost:8080/"
        },
        "id": "ULDoNNZ6WQCJ",
        "outputId": "88c8fdc4-173f-4c8c-cfd4-726724c8fd2e"
      },
      "execution_count": null,
      "outputs": [
        {
          "output_type": "stream",
          "name": "stdout",
          "text": [
            "reckon dumbledore gently . it .  \" the train to a large chocolate frog \n",
            "- know - haired family wizards .  \" oh , the ground he looked \n",
            "as the other team ?\"  \" what you ?\"  \" oh , \" \n",
            "i was still , i ' t see , the door open door , \" \n",
            "it was a bit like a large doughnut in their mother ' ve got to \n",
            "a dragon , you ?\"  harry ' t know ... i ' t want \n",
            "...  \" but i suppose you .\"  \" i thought it -- you \n",
            "' s gone back into the other end of the other two cups , but \n",
            "what did the way ?\" said hagrid , which was a lot at ron in \n",
            "his hand and then , he had a very long . he ' t been \n",
            "waiting for the mirror .  \" i mean ...\"  hermione . \" i \n",
            "told hagrid , \" you can ' s going to his head .  \" \n",
            "and the door open with a few feet , and the house fifty ?\"  \n",
            "\" i ' t "
          ]
        }
      ]
    },
    {
      "cell_type": "markdown",
      "source": [
        "greedy"
      ],
      "metadata": {
        "id": "AHlOvHHgV6yp"
      }
    },
    {
      "cell_type": "code",
      "source": [
        "cur_token = 53\n",
        "for www in range(1, 200):\n",
        "    result_token = mc_model.generate_next_token(cur_token, greedy=True)\n",
        "    result_word = tokenizer.decode([result_token])\n",
        "    cur_token = result_token\n",
        "    print(result_word, end=' ')\n",
        "    if www % 15 == 0:\n",
        "        print()"
      ],
      "metadata": {
        "colab": {
          "base_uri": "https://localhost:8080/"
        },
        "id": "fBdiCEtHWQfV",
        "outputId": "80bdcf4d-b0f7-4617-f9cf-dd7afd806f60"
      },
      "execution_count": null,
      "outputs": [
        {
          "output_type": "stream",
          "name": "stdout",
          "text": [
            "reckon he ' s a bit of the door .  \" i ' s \n",
            "a bit of the door .  \" i ' s a bit of the \n",
            "door .  \" i ' s a bit of the door .  \" \n",
            "i ' s a bit of the door .  \" i ' s a \n",
            "bit of the door .  \" i ' s a bit of the door \n",
            ".  \" i ' s a bit of the door .  \" i \n",
            "' s a bit of the door .  \" i ' s a bit \n",
            "of the door .  \" i ' s a bit of the door . \n",
            " \" i ' s a bit of the door .  \" i ' \n",
            "s a bit of the door .  \" i ' s a bit of \n",
            "the door .  \" i ' s a bit of the door .  \n",
            "\" i ' s a bit of the door .  \" i ' s \n",
            "a bit of the door .  \" i ' s a bit of the \n",
            "door .  \" "
          ]
        }
      ]
    }
  ]
}